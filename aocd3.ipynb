{
 "cells": [
  {
   "cell_type": "markdown",
   "metadata": {},
   "source": []
  },
  {
   "cell_type": "code",
   "execution_count": 1,
   "metadata": {},
   "outputs": [],
   "source": [
    "testlista =['vJrwpWtwJgWrhcsFMMfFFhFp',\n",
    "'jqHRNqRjqzjGDLGLrsFMfFZSrLrFZsSL',\n",
    "'PmmdzqPrVvPwwTWBwg',\n",
    "'wMqvLMZHhHMvwLHjbvcjnnSBnvTQFn',\n",
    "'ttgJtRGJQctTZtZT',\n",
    "'CrZsJsPPZsGzwwsLwLmpwMDw']"
   ]
  },
  {
   "cell_type": "code",
   "execution_count": 2,
   "metadata": {},
   "outputs": [
    {
     "name": "stdout",
     "output_type": "stream",
     "text": [
      "8139\n"
     ]
    }
   ],
   "source": [
    "#partone\n",
    "start = open('/Users/oskarsoderbom/aocd3.txt').read()\n",
    "\n",
    "testar = start.split('\\n')\n",
    "startlist = []\n",
    "for line in testar:\n",
    "\n",
    "    startlist.append(list(line))\n",
    "\n",
    "point = 0\n",
    "for i in range(len(startlist)):\n",
    "    x = startlist[i][int(len(startlist[i])/2):]\n",
    "    y = startlist[i][:int(len(startlist[i])/2)]\n",
    "    b = list(set(x))\n",
    "    c = list(set(y))\n",
    "    \n",
    "  \n",
    "    for j in b:\n",
    "        if c.count(j) > 0:\n",
    "            if j.islower():\n",
    "                point += ord(j) - 96\n",
    "            else:\n",
    "                point += ord(j)-38 \n",
    "print(point)"
   ]
  },
  {
   "cell_type": "code",
   "execution_count": 19,
   "metadata": {},
   "outputs": [
    {
     "name": "stdout",
     "output_type": "stream",
     "text": [
      "2668\n"
     ]
    }
   ],
   "source": [
    "#parttwo \n",
    "points = 0\n",
    "for lista in range(0, len(startlist)-1, 3):\n",
    "    list_1 = list(set(startlist[lista+2]))\n",
    "    list_2 = list(set(startlist[lista+1]))\n",
    "    list_3 = list(set(startlist[lista]))\n",
    "\n",
    "    maxlist = max(list_1, list_2, list_3, key=len)\n",
    "\n",
    "    if maxlist == list_1:\n",
    "        for row in list_1:\n",
    "            if list_2.count(row) > 0 and list_3.count(row) > 0:\n",
    "                if row.islower():\n",
    "                    points += ord(row) - 96\n",
    "                else:\n",
    "                    points += ord(row)-38\n",
    "            else:\n",
    "                pass\n",
    "\n",
    "    elif maxlist == list_2:\n",
    "        for row in list_2:\n",
    "            if list_1.count(row) > 0 and list_3.count(row) > 0:\n",
    "                if row.islower():\n",
    "                    points += ord(row) - 96\n",
    "                else:\n",
    "                    points += ord(row)-38 \n",
    "            else:\n",
    "                pass\n",
    "    elif maxlist == list_3:\n",
    "        for row in list_3:\n",
    "            if list_1.count(row) > 0 and list_2.count(row) > 0:\n",
    "                if row.islower():\n",
    "                    points += ord(row) - 96\n",
    "                else:\n",
    "                    points += ord(row)-38 \n",
    "            else:\n",
    "                pass\n",
    "print(points)"
   ]
  }
 ],
 "metadata": {
  "kernelspec": {
   "display_name": "Python 3.8.3rc1 64-bit",
   "language": "python",
   "name": "python3"
  },
  "language_info": {
   "codemirror_mode": {
    "name": "ipython",
    "version": 3
   },
   "file_extension": ".py",
   "mimetype": "text/x-python",
   "name": "python",
   "nbconvert_exporter": "python",
   "pygments_lexer": "ipython3",
   "version": "3.8.3"
  },
  "orig_nbformat": 4,
  "vscode": {
   "interpreter": {
    "hash": "082e9a3bcad0a290d0001e938aa60b99250c6c2ef33a923c00b70f9826caf4b7"
   }
  }
 },
 "nbformat": 4,
 "nbformat_minor": 2
}
