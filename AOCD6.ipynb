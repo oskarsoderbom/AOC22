{
 "cells": [
  {
   "cell_type": "code",
   "execution_count": 11,
   "metadata": {},
   "outputs": [
    {
     "name": "stdout",
     "output_type": "stream",
     "text": [
      "1080 v\n"
     ]
    }
   ],
   "source": [
    "#partone\n",
    "alldata = open('/Users/oskarsoderbom/aocd6.txt').read()\n",
    "\n",
    "testdata = 'zcfzfwzzqfrljwzlrfnpqdbhtmscgvjw'\n",
    "\n",
    "for count, value in enumerate(alldata.strip()):\n",
    "    if count >2:\n",
    "        strlist = [value, alldata[count-1], alldata[count-2], alldata[count-3]]\n",
    "        uniquelist = set(strlist)\n",
    "        if len(uniquelist) == 4:\n",
    "            print(count+1, value)\n",
    "            break"
   ]
  },
  {
   "cell_type": "code",
   "execution_count": 23,
   "metadata": {},
   "outputs": [
    {
     "name": "stdout",
     "output_type": "stream",
     "text": [
      "3645 n\n"
     ]
    }
   ],
   "source": [
    "#parttwo\n",
    "testdatapart2 = 'nppdvjthqldpwncqszvftbrmjlhg'\n",
    "\n",
    "for index, item in enumerate(alldata.strip()):\n",
    "    if index > 12:\n",
    "        tmplist = []\n",
    "        for char in range(0, 14, 1):\n",
    "            x = alldata[index-char]\n",
    "            tmplist.append(x)\n",
    "        unilist = set(tmplist)\n",
    "        if len(unilist) == 14:\n",
    "            print(index+1, item)\n",
    "            break"
   ]
  },
  {
   "cell_type": "code",
   "execution_count": null,
   "metadata": {},
   "outputs": [],
   "source": []
  }
 ],
 "metadata": {
  "kernelspec": {
   "display_name": "Python 3.8.3rc1 64-bit",
   "language": "python",
   "name": "python3"
  },
  "language_info": {
   "codemirror_mode": {
    "name": "ipython",
    "version": 3
   },
   "file_extension": ".py",
   "mimetype": "text/x-python",
   "name": "python",
   "nbconvert_exporter": "python",
   "pygments_lexer": "ipython3",
   "version": "3.8.3rc1"
  },
  "orig_nbformat": 4,
  "vscode": {
   "interpreter": {
    "hash": "082e9a3bcad0a290d0001e938aa60b99250c6c2ef33a923c00b70f9826caf4b7"
   }
  }
 },
 "nbformat": 4,
 "nbformat_minor": 2
}
